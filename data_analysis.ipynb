{
  "nbformat": 4,
  "nbformat_minor": 0,
  "metadata": {
    "colab": {
      "provenance": [],
      "authorship_tag": "ABX9TyM8JN7V1RXbVxDV5Q41F1HI",
      "include_colab_link": true
    },
    "kernelspec": {
      "name": "python3",
      "display_name": "Python 3"
    },
    "language_info": {
      "name": "python"
    }
  },
  "cells": [
    {
      "cell_type": "markdown",
      "metadata": {
        "id": "view-in-github",
        "colab_type": "text"
      },
      "source": [
        "<a href=\"https://colab.research.google.com/github/jahleeljackson/mitsui_project/blob/main/data_analysis.ipynb\" target=\"_parent\"><img src=\"https://colab.research.google.com/assets/colab-badge.svg\" alt=\"Open In Colab\"/></a>"
      ]
    },
    {
      "cell_type": "code",
      "execution_count": 14,
      "metadata": {
        "id": "9TD9Pua3H2xT",
        "outputId": "db6c71cf-254a-426f-d272-d3c7d753fefe",
        "colab": {
          "base_uri": "https://localhost:8080/"
        }
      },
      "outputs": [
        {
          "output_type": "stream",
          "name": "stdout",
          "text": [
            "Index(['date_id', 'LME_AH_Close', 'LME_CA_Close', 'LME_PB_Close',\n",
            "       'LME_ZS_Close', 'JPX_Gold_Mini_Futures_Open',\n",
            "       'JPX_Gold_Rolling-Spot_Futures_Open', 'JPX_Gold_Standard_Futures_Open',\n",
            "       'JPX_Platinum_Mini_Futures_Open', 'JPX_Platinum_Standard_Futures_Open',\n",
            "       ...\n",
            "       'FX_GBPCAD', 'FX_CADCHF', 'FX_NZDCAD', 'FX_NZDCHF', 'FX_ZAREUR',\n",
            "       'FX_NOKGBP', 'FX_NOKCHF', 'FX_ZARCHF', 'FX_NOKJPY', 'FX_ZARGBP'],\n",
            "      dtype='object', length=558)\n"
          ]
        }
      ],
      "source": [
        "import os\n",
        "\n",
        "import pandas as pd\n",
        "import polars as pl\n",
        "import matplotlib.pyplot as plt\n",
        "\n",
        "df = pd.read_csv(\"/train.csv\")\n",
        "print(df.columns)\n",
        "mean = df.mean()\n",
        "print(mean)\n",
        "\n",
        "\n",
        "plt.figure(figsize=(10,6))\n",
        "plt.plot(df.index, df[\"LME_avg\"], label=\"LME Average Price\", linewidth=2)\n",
        "\n",
        "plt.title(\"Average LME Metal Prices Over Time\")\n",
        "plt.xlabel(\"Date\")\n",
        "plt.ylabel(\"Price (USD per metric tonne)\")\n",
        "plt.legend()\n",
        "plt.grid(True)\n",
        "plt.show()\n"
      ]
    }
  ]
}